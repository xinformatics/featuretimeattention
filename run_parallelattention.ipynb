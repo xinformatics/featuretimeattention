{
 "cells": [
  {
   "cell_type": "code",
   "execution_count": 6,
   "id": "bed4e86c-eb41-4216-85d2-3008bb1cd071",
   "metadata": {},
   "outputs": [],
   "source": [
    "import torch\n",
    "import torch.nn as nn\n",
    "import numpy as np\n",
    "import torch.optim as optim\n",
    "from torch.utils.data import DataLoader, TensorDataset\n",
    "from einops import rearrange, repeat\n",
    "from parallelattention import TimeSeriesClassifier, FullAttention\n",
    "from sklearn.model_selection import train_test_split, StratifiedKFold\n",
    "from utils_window import TimeSeriesScaler\n",
    "from sklearn.metrics import accuracy_score, precision_score, recall_score, f1_score, matthews_corrcoef\n",
    "from torchsummary import summary\n",
    "torch.manual_seed(0) #set seed for reproducibility\n",
    "np.random.seed(0)"
   ]
  },
  {
   "cell_type": "code",
   "execution_count": 7,
   "id": "d72a55b4-0700-465d-a9fb-0d183b0b9692",
   "metadata": {},
   "outputs": [],
   "source": [
    "data = np.load('mimic4_acute_resp_failure_vsdata_ldcbf_4209_048_19_btf.npz')\n",
    "data_all, label = data['arr_0'], data['arr_1'].reshape(-1,1)\n",
    "data_scaler = TimeSeriesScaler()\n",
    "data_x = data_scaler.fit_transform(data_all)"
   ]
  },
  {
   "cell_type": "code",
   "execution_count": 8,
   "id": "f17f2a65-3550-4e43-9490-3560ab123fc9",
   "metadata": {},
   "outputs": [],
   "source": [
    "# print(torch.from_numpy(data_all).shape, torch.from_numpy(label).shape)\n",
    "\n",
    "X = torch.from_numpy(data_x)\n",
    "y = torch.from_numpy(label.reshape(-1,1))\n",
    "# y = torch.from_numpy(label)\n",
    "\n",
    "\n",
    "train_x, test_x, train_y, test_y= train_test_split(X, y,test_size=0.2, random_state=42, stratify=y)\n",
    "\n",
    "\n",
    "# Data Loaders\n",
    "train_dataset = TensorDataset(train_x, train_y)\n",
    "train_loader = DataLoader(train_dataset, batch_size=32, shuffle=True)\n",
    "val_dataset = TensorDataset(test_x, test_y)\n",
    "val_loader = DataLoader(val_dataset, batch_size=32, shuffle=False)"
   ]
  },
  {
   "cell_type": "code",
   "execution_count": 9,
   "id": "1c8fe932-408a-4cc0-b44b-7f8c666be892",
   "metadata": {},
   "outputs": [
    {
     "name": "stdout",
     "output_type": "stream",
     "text": [
      "Running on cuda\n",
      "Epoch 1/50, Train Loss: 0.5762, Train Accuracy: 0.7083, Train F1 Score: 0.6838, Train MCC: 0.2137, Val Loss:   0.5726, Val Accuracy: 0.7316, Val F1 Score: 0.6706, Val MCC: 0.2296\n",
      "Epoch 2/50, Train Loss: 0.5515, Train Accuracy: 0.7348, Train F1 Score: 0.7104, Train MCC: 0.2856, Val Loss:   0.5332, Val Accuracy: 0.7458, Val F1 Score: 0.7172, Val MCC: 0.3099\n",
      "Epoch 3/50, Train Loss: 0.5312, Train Accuracy: 0.7410, Train F1 Score: 0.7181, Train MCC: 0.3055, Val Loss:   0.5372, Val Accuracy: 0.7328, Val F1 Score: 0.7161, Val MCC: 0.2975\n",
      "Epoch 4/50, Train Loss: 0.5146, Train Accuracy: 0.7618, Train F1 Score: 0.7421, Train MCC: 0.3679, Val Loss:   0.5758, Val Accuracy: 0.7399, Val F1 Score: 0.7151, Val MCC: 0.2994\n",
      "Epoch 5/50, Train Loss: 0.5015, Train Accuracy: 0.7624, Train F1 Score: 0.7465, Train MCC: 0.3764, Val Loss:   0.5592, Val Accuracy: 0.7470, Val F1 Score: 0.7236, Val MCC: 0.3215\n",
      "Epoch 6/50, Train Loss: 0.4897, Train Accuracy: 0.7576, Train F1 Score: 0.7413, Train MCC: 0.3629, Val Loss:   0.5707, Val Accuracy: 0.7435, Val F1 Score: 0.7160, Val MCC: 0.3048\n",
      "Epoch 7/50, Train Loss: 0.4815, Train Accuracy: 0.7728, Train F1 Score: 0.7601, Train MCC: 0.4099, Val Loss:   0.5587, Val Accuracy: 0.7399, Val F1 Score: 0.7248, Val MCC: 0.3197\n",
      "Epoch 8/50, Train Loss: 0.4648, Train Accuracy: 0.7755, Train F1 Score: 0.7629, Train MCC: 0.4173, Val Loss:   0.5821, Val Accuracy: 0.7506, Val F1 Score: 0.7265, Val MCC: 0.3304\n",
      "Epoch 9/50, Train Loss: 0.4562, Train Accuracy: 0.7817, Train F1 Score: 0.7700, Train MCC: 0.4351, Val Loss:   0.5963, Val Accuracy: 0.7268, Val F1 Score: 0.7032, Val MCC: 0.2659\n",
      "Epoch 10/50, Train Loss: 0.4425, Train Accuracy: 0.7897, Train F1 Score: 0.7793, Train MCC: 0.4584, Val Loss:   0.6358, Val Accuracy: 0.7375, Val F1 Score: 0.7243, Val MCC: 0.3186\n",
      "Epoch 11/50, Train Loss: 0.4212, Train Accuracy: 0.8022, Train F1 Score: 0.7936, Train MCC: 0.4941, Val Loss:   0.6303, Val Accuracy: 0.7447, Val F1 Score: 0.7259, Val MCC: 0.3239\n",
      "Epoch 12/50, Train Loss: 0.4081, Train Accuracy: 0.8120, Train F1 Score: 0.8053, Train MCC: 0.5228, Val Loss:   0.6426, Val Accuracy: 0.7328, Val F1 Score: 0.7223, Val MCC: 0.3145\n",
      "Epoch 13/50, Train Loss: 0.4079, Train Accuracy: 0.8132, Train F1 Score: 0.8057, Train MCC: 0.5241, Val Loss:   0.6604, Val Accuracy: 0.6936, Val F1 Score: 0.6909, Val MCC: 0.2468\n",
      "Epoch 14/50, Train Loss: 0.3829, Train Accuracy: 0.8271, Train F1 Score: 0.8216, Train MCC: 0.5634, Val Loss:   0.6731, Val Accuracy: 0.7268, Val F1 Score: 0.7128, Val MCC: 0.2893\n",
      "Epoch 15/50, Train Loss: 0.3696, Train Accuracy: 0.8352, Train F1 Score: 0.8303, Train MCC: 0.5850, Val Loss:   0.7056, Val Accuracy: 0.7245, Val F1 Score: 0.7124, Val MCC: 0.2889\n",
      "Epoch 16/50, Train Loss: 0.3570, Train Accuracy: 0.8366, Train F1 Score: 0.8329, Train MCC: 0.5914, Val Loss:   0.7318, Val Accuracy: 0.7482, Val F1 Score: 0.7258, Val MCC: 0.3266\n",
      "Epoch 17/50, Train Loss: 0.3341, Train Accuracy: 0.8521, Train F1 Score: 0.8482, Train MCC: 0.6294, Val Loss:   0.7651, Val Accuracy: 0.7150, Val F1 Score: 0.7060, Val MCC: 0.2751\n",
      "Epoch 18/50, Train Loss: 0.3214, Train Accuracy: 0.8568, Train F1 Score: 0.8543, Train MCC: 0.6444, Val Loss:   0.7606, Val Accuracy: 0.7197, Val F1 Score: 0.7080, Val MCC: 0.2780\n",
      "Epoch 19/50, Train Loss: 0.3097, Train Accuracy: 0.8661, Train F1 Score: 0.8636, Train MCC: 0.6673, Val Loss:   0.8429, Val Accuracy: 0.7090, Val F1 Score: 0.6944, Val MCC: 0.2423\n",
      "Epoch 20/50, Train Loss: 0.2900, Train Accuracy: 0.8788, Train F1 Score: 0.8763, Train MCC: 0.6987, Val Loss:   0.8138, Val Accuracy: 0.7257, Val F1 Score: 0.7108, Val MCC: 0.2839\n",
      "Epoch 21/50, Train Loss: 0.2816, Train Accuracy: 0.8803, Train F1 Score: 0.8784, Train MCC: 0.7037, Val Loss:   0.8325, Val Accuracy: 0.7209, Val F1 Score: 0.7095, Val MCC: 0.2819\n",
      "Epoch 22/50, Train Loss: 0.2747, Train Accuracy: 0.8815, Train F1 Score: 0.8793, Train MCC: 0.7059, Val Loss:   0.8560, Val Accuracy: 0.7007, Val F1 Score: 0.6928, Val MCC: 0.2436\n",
      "Epoch 23/50, Train Loss: 0.2543, Train Accuracy: 0.8904, Train F1 Score: 0.8890, Train MCC: 0.7297, Val Loss:   0.8995, Val Accuracy: 0.7257, Val F1 Score: 0.7073, Val MCC: 0.2750\n",
      "Epoch 24/50, Train Loss: 0.2388, Train Accuracy: 0.9020, Train F1 Score: 0.9008, Train MCC: 0.7586, Val Loss:   0.9898, Val Accuracy: 0.7043, Val F1 Score: 0.6948, Val MCC: 0.2467\n",
      "Epoch 25/50, Train Loss: 0.2356, Train Accuracy: 0.8996, Train F1 Score: 0.8983, Train MCC: 0.7525, Val Loss:   0.9773, Val Accuracy: 0.7150, Val F1 Score: 0.7036, Val MCC: 0.2671\n",
      "Epoch 26/50, Train Loss: 0.2040, Train Accuracy: 0.9180, Train F1 Score: 0.9172, Train MCC: 0.7988, Val Loss:   1.0531, Val Accuracy: 0.7007, Val F1 Score: 0.6860, Val MCC: 0.2210\n",
      "Epoch 27/50, Train Loss: 0.2017, Train Accuracy: 0.9213, Train F1 Score: 0.9205, Train MCC: 0.8067, Val Loss:   0.9847, Val Accuracy: 0.7007, Val F1 Score: 0.6960, Val MCC: 0.2557\n",
      "Epoch 28/50, Train Loss: 0.1946, Train Accuracy: 0.9210, Train F1 Score: 0.9202, Train MCC: 0.8061, Val Loss:   1.0432, Val Accuracy: 0.6983, Val F1 Score: 0.6953, Val MCC: 0.2567\n",
      "Epoch 29/50, Train Loss: 0.1834, Train Accuracy: 0.9257, Train F1 Score: 0.9253, Train MCC: 0.8185, Val Loss:   1.0759, Val Accuracy: 0.7043, Val F1 Score: 0.7019, Val MCC: 0.2739\n",
      "Epoch 30/50, Train Loss: 0.1812, Train Accuracy: 0.9269, Train F1 Score: 0.9264, Train MCC: 0.8211, Val Loss:   1.0958, Val Accuracy: 0.7019, Val F1 Score: 0.6918, Val MCC: 0.2389\n",
      "Epoch 31/50, Train Loss: 0.1603, Train Accuracy: 0.9397, Train F1 Score: 0.9393, Train MCC: 0.8527, Val Loss:   1.1839, Val Accuracy: 0.7102, Val F1 Score: 0.6976, Val MCC: 0.2513\n",
      "Epoch 32/50, Train Loss: 0.1587, Train Accuracy: 0.9442, Train F1 Score: 0.9438, Train MCC: 0.8637, Val Loss:   1.2034, Val Accuracy: 0.6983, Val F1 Score: 0.6944, Val MCC: 0.2533\n",
      "Epoch 33/50, Train Loss: 0.1520, Train Accuracy: 0.9394, Train F1 Score: 0.9392, Train MCC: 0.8525, Val Loss:   1.2478, Val Accuracy: 0.7150, Val F1 Score: 0.7015, Val MCC: 0.2606\n",
      "Epoch 34/50, Train Loss: 0.1488, Train Accuracy: 0.9335, Train F1 Score: 0.9331, Train MCC: 0.8376, Val Loss:   1.2675, Val Accuracy: 0.7019, Val F1 Score: 0.6961, Val MCC: 0.2544\n",
      "Epoch 35/50, Train Loss: 0.1526, Train Accuracy: 0.9373, Train F1 Score: 0.9371, Train MCC: 0.8476, Val Loss:   1.2594, Val Accuracy: 0.7078, Val F1 Score: 0.7036, Val MCC: 0.2752\n",
      "Epoch 36/50, Train Loss: 0.1404, Train Accuracy: 0.9427, Train F1 Score: 0.9424, Train MCC: 0.8603, Val Loss:   1.3544, Val Accuracy: 0.6924, Val F1 Score: 0.6850, Val MCC: 0.2251\n",
      "Epoch 37/50, Train Loss: 0.1221, Train Accuracy: 0.9549, Train F1 Score: 0.9546, Train MCC: 0.8899, Val Loss:   1.3483, Val Accuracy: 0.7007, Val F1 Score: 0.6985, Val MCC: 0.2660\n",
      "Epoch 38/50, Train Loss: 0.1357, Train Accuracy: 0.9456, Train F1 Score: 0.9455, Train MCC: 0.8678, Val Loss:   1.3764, Val Accuracy: 0.7043, Val F1 Score: 0.6932, Val MCC: 0.2416\n",
      "Epoch 39/50, Train Loss: 0.1046, Train Accuracy: 0.9605, Train F1 Score: 0.9604, Train MCC: 0.9040, Val Loss:   1.3709, Val Accuracy: 0.6995, Val F1 Score: 0.6954, Val MCC: 0.2553\n",
      "Epoch 40/50, Train Loss: 0.1010, Train Accuracy: 0.9617, Train F1 Score: 0.9615, Train MCC: 0.9066, Val Loss:   1.4557, Val Accuracy: 0.7031, Val F1 Score: 0.6997, Val MCC: 0.2667\n",
      "Epoch 41/50, Train Loss: 0.1215, Train Accuracy: 0.9510, Train F1 Score: 0.9509, Train MCC: 0.8812, Val Loss:   1.5486, Val Accuracy: 0.6948, Val F1 Score: 0.6757, Val MCC: 0.1932\n",
      "Epoch 42/50, Train Loss: 0.1041, Train Accuracy: 0.9605, Train F1 Score: 0.9604, Train MCC: 0.9040, Val Loss:   1.5646, Val Accuracy: 0.6865, Val F1 Score: 0.6845, Val MCC: 0.2329\n",
      "Epoch 43/50, Train Loss: 0.1052, Train Accuracy: 0.9549, Train F1 Score: 0.9548, Train MCC: 0.8904, Val Loss:   1.5991, Val Accuracy: 0.6971, Val F1 Score: 0.6903, Val MCC: 0.2389\n",
      "Epoch 44/50, Train Loss: 0.1029, Train Accuracy: 0.9620, Train F1 Score: 0.9619, Train MCC: 0.9077, Val Loss:   1.5947, Val Accuracy: 0.6960, Val F1 Score: 0.6894, Val MCC: 0.2368\n",
      "Epoch 45/50, Train Loss: 0.0966, Train Accuracy: 0.9590, Train F1 Score: 0.9589, Train MCC: 0.9003, Val Loss:   1.6583, Val Accuracy: 0.6876, Val F1 Score: 0.6863, Val MCC: 0.2385\n",
      "Epoch 46/50, Train Loss: 0.0912, Train Accuracy: 0.9650, Train F1 Score: 0.9649, Train MCC: 0.9150, Val Loss:   1.6705, Val Accuracy: 0.7067, Val F1 Score: 0.7005, Val MCC: 0.2646\n",
      "Epoch 47/50, Train Loss: 0.0946, Train Accuracy: 0.9667, Train F1 Score: 0.9667, Train MCC: 0.9194, Val Loss:   1.6855, Val Accuracy: 0.6995, Val F1 Score: 0.6990, Val MCC: 0.2709\n",
      "Epoch 48/50, Train Loss: 0.0845, Train Accuracy: 0.9694, Train F1 Score: 0.9694, Train MCC: 0.9259, Val Loss:   1.7184, Val Accuracy: 0.6888, Val F1 Score: 0.6844, Val MCC: 0.2279\n",
      "Epoch 49/50, Train Loss: 0.0749, Train Accuracy: 0.9706, Train F1 Score: 0.9705, Train MCC: 0.9286, Val Loss:   1.7506, Val Accuracy: 0.6912, Val F1 Score: 0.6835, Val MCC: 0.2212\n",
      "Epoch 50/50, Train Loss: 0.0810, Train Accuracy: 0.9682, Train F1 Score: 0.9682, Train MCC: 0.9230, Val Loss:   1.7763, Val Accuracy: 0.6924, Val F1 Score: 0.6891, Val MCC: 0.2412\n"
     ]
    }
   ],
   "source": [
    "\n",
    "# Hyperparameters\n",
    "num_features = 19  # Adjust this to the number of features in your dataset\n",
    "num_classes = 1   # Adjust this to the number of classes in your dataset\n",
    "seg_len = 48       # Segment number or \n",
    "#time steps seg_num = 48\n",
    "# factor = 8         # Factor for the router\n",
    "d_model = 16       # Model dimension\n",
    "n_heads = 8       # Number of attention heads\n",
    "\n",
    "# Instantiate model\n",
    "model = TimeSeriesClassifier(num_features, num_classes, seg_len, n_heads)\n",
    "# Print the summary\n",
    "\n",
    "# print(model.summary())\n",
    "\n",
    "device = torch.device('cuda' if torch.cuda.is_available() else 'cpu')\n",
    "\n",
    "\n",
    "print('Running on',device)\n",
    "\n",
    "model.to(device) \n",
    "\n",
    "# summary(model, input_size=(seg_len, num_features))\n",
    "\n",
    "\n",
    "# Loss and Optimizer\n",
    "# criterion = nn.BCELoss()\n",
    "criterion = nn.BCEWithLogitsLoss()\n",
    "optimizer = optim.Adam(model.parameters(), lr=0.001)\n",
    "\n",
    "\n",
    "### implement LR reducer, increase training accuracy\n",
    "\n",
    "\n",
    "# Training Loop\n",
    "num_epochs = 50\n",
    "for epoch in range(num_epochs):\n",
    "    model.train()  # Set model to training mode\n",
    "\n",
    "    # Initialize lists to store predictions and labels for each batch\n",
    "    train_preds = []\n",
    "    train_labels = []\n",
    "    train_losses = []\n",
    "\n",
    "    for batch_X, batch_y in train_loader:\n",
    "        batch_X = batch_X.float()  # Ensure batch_X is in float32 format\n",
    "\n",
    "        batch_X = batch_X.to(device)\n",
    "        batch_y = batch_y.to(device)\n",
    "\n",
    "        optimizer.zero_grad()\n",
    "        # outputs = model(batch_X).squeeze()\n",
    "        outputs = model(batch_X)\n",
    "        loss = criterion(outputs, batch_y.float())\n",
    "        train_losses.append(loss.item())\n",
    "        loss.backward()\n",
    "        optimizer.step()\n",
    "\n",
    "        \n",
    "        probs = torch.sigmoid(outputs)  # Convert logits to probabilities\n",
    "        preds = (probs >= 0.5).float()  # Threshold probabilities to generate predictions\n",
    "\n",
    "        train_preds.extend(preds.cpu().numpy())\n",
    "        train_labels.extend(batch_y.cpu().numpy())\n",
    "\n",
    "        # print(train_preds[0].shape, train_labels[0].shape)\n",
    "        # break\n",
    "    # break\n",
    "\n",
    "    # Train metrics\n",
    "\n",
    "    train_accuracy = accuracy_score(train_labels, train_preds)\n",
    "    # train_precision = precision_score(train_labels, train_preds, average='weighted')\n",
    "    # train_recall = recall_score(train_labels, train_preds, average='weighted')\n",
    "    train_f1 = f1_score(train_labels, train_preds, average='weighted')\n",
    "    train_mcc= matthews_corrcoef(train_labels, train_preds)\n",
    "    \n",
    "    # print(f\"Epoch {epoch+1}/{num_epochs}, Loss: {loss.item()}\")\n",
    "    # Validation step\n",
    "    model.eval()  # Set model to evaluation mode\n",
    "    val_preds = []\n",
    "    val_labels = []\n",
    "    val_losses = []\n",
    "\n",
    "    with torch.no_grad():\n",
    "        for batch_X, batch_y in val_loader:\n",
    "            batch_X = batch_X.float()\n",
    "            batch_y = batch_y.float()\n",
    "\n",
    "            batch_X = batch_X.to(device)\n",
    "            batch_y = batch_y.to(device)\n",
    "            # outputs = model(batch_X).squeeze()\n",
    "            outputs = model(batch_X)\n",
    "\n",
    "            val_loss = criterion(outputs, batch_y)\n",
    "            val_losses.append(val_loss.item()) \n",
    "\n",
    "\n",
    "            # print(outputs)\n",
    "            # Apply sigmoid and threshold at 0.5 for predictions\n",
    "            preds = (torch.sigmoid(outputs) >= 0.5).float()\n",
    "            val_preds.extend(preds.cpu().numpy())\n",
    "            val_labels.extend(batch_y.cpu().numpy())\n",
    "\n",
    "\n",
    "    # Validation metrics\n",
    "    val_accuracy = accuracy_score(val_labels, val_preds)\n",
    "    # val_precision = precision_score(val_labels, val_preds, average='weighted')\n",
    "    # val_recall = recall_score(val_labels, val_preds, average='weighted')\n",
    "    val_f1 = f1_score(val_labels, val_preds, average='weighted')\n",
    "    val_mcc= matthews_corrcoef(val_labels, val_preds)\n",
    "\n",
    "\n",
    "    print(f\"Epoch {epoch+1}/{num_epochs}, \"\n",
    "    \t  f\"Train Loss: {np.mean(train_losses):.4f}, Train Accuracy: {train_accuracy:.4f}, Train F1 Score: {train_f1:.4f}, Train MCC: {train_mcc:.4f}, \"\n",
    "          f\"Val Loss:   {np.mean(val_losses):.4f}, Val Accuracy: {val_accuracy:.4f}, Val F1 Score: {val_f1:.4f}, Val MCC: {val_mcc:.4f}\")\n"
   ]
  },
  {
   "cell_type": "code",
   "execution_count": 10,
   "id": "e04ac2e9-ed50-4a83-ae4a-2659705aed32",
   "metadata": {},
   "outputs": [
    {
     "data": {
      "text/plain": [
       "TimeSeriesClassifier(\n",
       "  (time_attention): TimeAttentionLayer(\n",
       "    (time_attention): AttentionLayer(\n",
       "      (inner_attention): FullAttention(\n",
       "        (dropout): Dropout(p=0.5, inplace=False)\n",
       "      )\n",
       "      (query_projection): Linear(in_features=19, out_features=128, bias=True)\n",
       "      (key_projection): Linear(in_features=19, out_features=128, bias=True)\n",
       "      (value_projection): Linear(in_features=19, out_features=128, bias=True)\n",
       "      (out_projection): Linear(in_features=128, out_features=19, bias=True)\n",
       "    )\n",
       "    (dropout): Dropout(p=0.5, inplace=False)\n",
       "    (norm1): LayerNorm((19,), eps=1e-05, elementwise_affine=True)\n",
       "    (norm2): LayerNorm((19,), eps=1e-05, elementwise_affine=True)\n",
       "    (MLP1): Sequential(\n",
       "      (0): Linear(in_features=19, out_features=32, bias=True)\n",
       "      (1): GELU(approximate='none')\n",
       "      (2): Linear(in_features=32, out_features=19, bias=True)\n",
       "    )\n",
       "  )\n",
       "  (feat_attention): FeatAttentionLayer(\n",
       "    (dim_attention): AttentionLayer(\n",
       "      (inner_attention): FullAttention(\n",
       "        (dropout): Dropout(p=0.5, inplace=False)\n",
       "      )\n",
       "      (query_projection): Linear(in_features=48, out_features=128, bias=True)\n",
       "      (key_projection): Linear(in_features=48, out_features=128, bias=True)\n",
       "      (value_projection): Linear(in_features=48, out_features=128, bias=True)\n",
       "      (out_projection): Linear(in_features=128, out_features=48, bias=True)\n",
       "    )\n",
       "    (dropout): Dropout(p=0.5, inplace=False)\n",
       "    (norm3): LayerNorm((48,), eps=1e-05, elementwise_affine=True)\n",
       "    (norm4): LayerNorm((48,), eps=1e-05, elementwise_affine=True)\n",
       "    (MLP2): Sequential(\n",
       "      (0): Linear(in_features=48, out_features=32, bias=True)\n",
       "      (1): GELU(approximate='none')\n",
       "      (2): Linear(in_features=32, out_features=48, bias=True)\n",
       "    )\n",
       "  )\n",
       "  (classifier): Linear(in_features=1824, out_features=1, bias=True)\n",
       ")"
      ]
     },
     "execution_count": 10,
     "metadata": {},
     "output_type": "execute_result"
    }
   ],
   "source": [
    "model"
   ]
  },
  {
   "cell_type": "code",
   "execution_count": 11,
   "id": "dde15249-316c-4429-bae6-66bf15191cd9",
   "metadata": {},
   "outputs": [],
   "source": [
    "def extract_attention_weights(model):\n",
    "    attention_weights = []\n",
    "    for layer in model.children():\n",
    "        if isinstance(layer, FullAttention):\n",
    "            attention_weights.append(layer.attention_weights)\n",
    "        else:\n",
    "            attention_weights.extend(extract_attention_weights(layer))\n",
    "    return attention_weights"
   ]
  },
  {
   "cell_type": "code",
   "execution_count": 12,
   "id": "ddb32bc3-c5e5-4760-b2c5-a21bcbb38f30",
   "metadata": {},
   "outputs": [],
   "source": [
    "# Run a forward pass\n",
    "temp_test_x = test_x.to(device).float()\n",
    "\n",
    "output_fp = model(temp_test_x)"
   ]
  },
  {
   "cell_type": "code",
   "execution_count": 13,
   "id": "5e11b9f2-f8b9-4aff-a04e-fea31b2cd4a8",
   "metadata": {},
   "outputs": [
    {
     "data": {
      "text/plain": [
       "(torch.Size([842, 48, 19]), torch.Size([842, 1]))"
      ]
     },
     "execution_count": 13,
     "metadata": {},
     "output_type": "execute_result"
    }
   ],
   "source": [
    "temp_test_x.shape, output_fp.shape"
   ]
  },
  {
   "cell_type": "code",
   "execution_count": 14,
   "id": "84757ea0-9399-4093-bd2f-2fc59d806f1d",
   "metadata": {},
   "outputs": [],
   "source": [
    "# Extract attention weights\n",
    "attention_weights_list = extract_attention_weights(model)"
   ]
  },
  {
   "cell_type": "code",
   "execution_count": 15,
   "id": "8039a6f2-d5f3-4b7f-9368-26f128892018",
   "metadata": {},
   "outputs": [
    {
     "data": {
      "text/plain": [
       "2"
      ]
     },
     "execution_count": 15,
     "metadata": {},
     "output_type": "execute_result"
    }
   ],
   "source": [
    "len(attention_weights_list)"
   ]
  },
  {
   "cell_type": "code",
   "execution_count": 16,
   "id": "1201729f-e9a0-46e8-afed-c8a86c4c64f3",
   "metadata": {},
   "outputs": [],
   "source": [
    "time_attention = attention_weights_list[0]\n",
    "feat_attention = attention_weights_list[1]"
   ]
  },
  {
   "cell_type": "code",
   "execution_count": 17,
   "id": "43af6268-52f8-4ff1-bfc9-78a884730d83",
   "metadata": {},
   "outputs": [
    {
     "data": {
      "text/plain": [
       "((842, 8, 48, 48), (842, 8, 19, 19))"
      ]
     },
     "execution_count": 17,
     "metadata": {},
     "output_type": "execute_result"
    }
   ],
   "source": [
    "time_attention.shape, feat_attention.shape"
   ]
  },
  {
   "cell_type": "code",
   "execution_count": 18,
   "id": "ba3ad09a-24a2-4c46-b2bd-2f8b2bd1ede7",
   "metadata": {},
   "outputs": [],
   "source": [
    "# attention_weights_list = feat_attention"
   ]
  },
  {
   "cell_type": "code",
   "execution_count": 19,
   "id": "6716f326-64ad-46db-a73d-52f03f88d35c",
   "metadata": {},
   "outputs": [],
   "source": [
    "# attention_weights_list.shape"
   ]
  },
  {
   "cell_type": "code",
   "execution_count": 20,
   "id": "e5c59a6f-5dbf-4844-b067-61358ff218f6",
   "metadata": {},
   "outputs": [],
   "source": [
    "import matplotlib.pyplot as plt"
   ]
  },
  {
   "cell_type": "code",
   "execution_count": 21,
   "id": "9a170eea-b5f9-40f0-9e3a-17a0690a6391",
   "metadata": {},
   "outputs": [],
   "source": [
    "sample = 10\n",
    "sample_time = time_attention[sample,:,:,:]\n",
    "sample_feat = feat_attention[sample,:,:,:]"
   ]
  },
  {
   "cell_type": "code",
   "execution_count": 22,
   "id": "bb078ebd-63f4-4ed1-9c21-f27f052e24c4",
   "metadata": {},
   "outputs": [
    {
     "data": {
      "text/plain": [
       "((8, 48, 48), (8, 19, 19))"
      ]
     },
     "execution_count": 22,
     "metadata": {},
     "output_type": "execute_result"
    }
   ],
   "source": [
    "sample_time.shape, sample_feat.shape"
   ]
  },
  {
   "cell_type": "code",
   "execution_count": 23,
   "id": "4efb8518-535a-4338-a76e-972f4254d461",
   "metadata": {},
   "outputs": [],
   "source": [
    "# # plt.figure()\n",
    "# fig, ax = plt.subplots(figsize=(8,8))\n",
    "# cax = ax.imshow(get_att,cmap=plt.cm.Reds, vmin=0, vmax=1)\n",
    "# cbar = fig.colorbar(cax, ax=ax, orientation='vertical')\n",
    "# plt.show()"
   ]
  },
  {
   "cell_type": "code",
   "execution_count": 24,
   "id": "b7c03ef7-0762-4985-98cf-6d31a03d496b",
   "metadata": {},
   "outputs": [],
   "source": [
    "# ### some trial\n",
    "# # images = [np.random.random((64, 64)) for _ in range(32)]\n",
    "\n",
    "# hm_list = [samp_sp[i,:,:] for i in range(32)]\n",
    "# hm_min=np.min(samp_sp)\n",
    "# hm_max=np.max(samp_sp)\n",
    "\n",
    "# print('sample min:', hm_min,'     sample max:',hm_max)\n",
    "# fig, axs = plt.subplots(4, 8, figsize=(20, 10), gridspec_kw={'hspace': 0.1, 'wspace': 0.1})  # Set appropriate figsize\n",
    "# # Flatten the axis array and iterate over it and the images simultaneously\n",
    "# for img, ax in zip(hm_list, axs.flatten()):\n",
    "#     ax.imshow(img, cmap=plt.cm.Reds, vmin=hm_min, vmax=hm_max)  # You can set your own colormap\n",
    "#     ax.axis('off')  # Optional: turn off the axis for each subplot\n",
    "\n",
    "# # Show the entire plot with all subplots\n",
    "# plt.show()"
   ]
  },
  {
   "cell_type": "code",
   "execution_count": 25,
   "id": "a3b32641-cfbc-4b56-8fdc-1e958f0c4da0",
   "metadata": {},
   "outputs": [],
   "source": [
    "# ####### average across all attention heads\n",
    "# # plt.figure()\n",
    "# fig, ax = plt.subplots(figsize=(8,8))\n",
    "# cax = ax.imshow(np.mean(samp_sp, axis=0),cmap=plt.cm.Reds, \n",
    "#                 # vmin=hm_min, vmax=hm_max\n",
    "#                )\n",
    "# cbar = fig.colorbar(cax, ax=ax, orientation='vertical')\n",
    "# plt.show()"
   ]
  },
  {
   "cell_type": "code",
   "execution_count": 26,
   "id": "e0ff268c-ca27-47dc-8e59-ccbdb3a10edb",
   "metadata": {},
   "outputs": [
    {
     "data": {
      "text/plain": [
       "((8, 48, 48), (8, 19, 19))"
      ]
     },
     "execution_count": 26,
     "metadata": {},
     "output_type": "execute_result"
    }
   ],
   "source": [
    "sample_time.shape, sample_feat.shape"
   ]
  },
  {
   "cell_type": "code",
   "execution_count": 27,
   "id": "50f2b0dd-54e5-489b-ad78-08b7659ce630",
   "metadata": {},
   "outputs": [],
   "source": [
    "##lets take mean across the attention axis"
   ]
  },
  {
   "cell_type": "code",
   "execution_count": 28,
   "id": "f5999b51-88c0-4b38-a223-c46a30df0ae2",
   "metadata": {},
   "outputs": [],
   "source": [
    "st_mean = np.mean(sample_time,axis=0)\n",
    "sf_mean = np.mean(sample_feat,axis=0)"
   ]
  },
  {
   "cell_type": "code",
   "execution_count": 29,
   "id": "64fea762-774a-4420-be8f-8f06e663e144",
   "metadata": {},
   "outputs": [],
   "source": [
    "# Calculate mean attention across features for each time point\n",
    "time_mean_attention = st_mean.mean(axis=0, keepdims=True)  # Resulting shape: (48, 1)\n",
    "\n",
    "# Calculate mean attention across time points for each feature\n",
    "feature_mean_attention = sf_mean.mean(axis=0, keepdims=True)  # Resulting shape: (19, 1)\n",
    "\n",
    "# Calculate outer product of time_mean_attention and feature_mean_attention\n",
    "combined_attention = np.dot(feature_mean_attention.T, time_mean_attention)  # Resulting shape: (19, 48)"
   ]
  },
  {
   "cell_type": "code",
   "execution_count": 30,
   "id": "f8d8da73-5404-421a-af62-4d207642c449",
   "metadata": {},
   "outputs": [],
   "source": [
    "# explicit function to normalize array\n",
    "def normalize(arr, t_min=0, t_max=1):\n",
    "    norm_arr = []\n",
    "    diff = t_max - t_min\n",
    "    diff_arr = np.max(arr) - np.min(arr)\n",
    "    for i in arr:\n",
    "        temp = (((i - np.min(arr))*diff)/diff_arr) + t_min\n",
    "        norm_arr.append(temp)\n",
    "    return norm_arr"
   ]
  },
  {
   "cell_type": "code",
   "execution_count": 31,
   "id": "2520681c-261b-4922-89ab-fc3526b82259",
   "metadata": {},
   "outputs": [
    {
     "data": {
      "image/png": "[encoded data removed]",
      "text/plain": [
       "<Figure size 1728x576 with 6 Axes>"
      ]
     },
     "metadata": {
      "needs_background": "light"
     },
     "output_type": "display_data"
    }
   ],
   "source": [
    "####### average across all attention heads\n",
    "# plt.figure()\n",
    "fig, ax = plt.subplots(1,3,figsize=(24,8))\n",
    "cax0 = ax[0].imshow(np.mean(sample_time, axis=0),cmap=plt.cm.Reds, \n",
    "                # vmin=hm_min, vmax=hm_max\n",
    "               )\n",
    "cbar0 = fig.colorbar(cax0, ax=ax[0], orientation='vertical')\n",
    "ax[0].set_xlabel('Key Time Step')\n",
    "ax[0].set_ylabel('Query Time Step')\n",
    "ax[0].set_title('Time Attention')\n",
    "\n",
    "\n",
    "cax1 = ax[1].imshow(np.mean(sample_feat, axis=0),cmap=plt.cm.Blues, \n",
    "                # vmin=hm_min, vmax=hm_max\n",
    "               )\n",
    "cbar1 = fig.colorbar(cax1, ax=ax[1], orientation='vertical')\n",
    "ax[1].set_xlabel('Key Feature')\n",
    "ax[1].set_ylabel('Query Feature')\n",
    "ax[1].set_title('Feat Attention')\n",
    "\n",
    "cax2 = ax[2].imshow(normalize(combined_attention),cmap=plt.cm.Greens)\n",
    "cbar2 = fig.colorbar(cax2, ax=ax[2], orientation='vertical')\n",
    "ax[2].set_xlabel('Key Time Step')\n",
    "ax[2].set_ylabel('Key Feature')\n",
    "ax[2].set_title('Feat-Time Pair Attention Aggregation')\n",
    "\n",
    "plt.show()"
   ]
  },
  {
   "cell_type": "markdown",
   "id": "67a96eac-98a5-489b-981c-ba6c262b9d74",
   "metadata": {},
   "source": [
    "## we need some kind of ablation experiment here to make sense of the feature time point aggegation"
   ]
  },
  {
   "cell_type": "markdown",
   "id": "bde4b32c-5efc-4c20-a8a4-7eb8e50c7fe8",
   "metadata": {},
   "source": [
    "## to get feat_time scores: one way is to get mean for both matrices across each key time step and then take a dot product.\n",
    "## another is that we use the input and multiply the 3 matrices."
   ]
  },
  {
   "cell_type": "code",
   "execution_count": 187,
   "id": "0958c92e-938c-4df1-841e-7d5e4c62051b",
   "metadata": {},
   "outputs": [],
   "source": [
    "### use the input\n",
    "\n"
   ]
  },
  {
   "cell_type": "code",
   "execution_count": 188,
   "id": "6da57f93-3548-47dd-b94b-000cb72fefc7",
   "metadata": {},
   "outputs": [],
   "source": [
    "########### or get the input matrix and do 3 way product"
   ]
  },
  {
   "cell_type": "markdown",
   "id": "7756e1b4-6b85-47cb-bd8d-da994672109d",
   "metadata": {},
   "source": [
    "time_att = 48*48, feat_att= 19*19, data= 48x19\n",
    "\n",
    "att_agg = time_att x data x feat_att"
   ]
  },
  {
   "cell_type": "code",
   "execution_count": 189,
   "id": "214d2564-1f03-4714-b673-c0c54fbc8c77",
   "metadata": {},
   "outputs": [],
   "source": [
    "inp = test_x[sample,:,:]"
   ]
  },
  {
   "cell_type": "code",
   "execution_count": 190,
   "id": "ad59fe4a-e6bb-412b-a044-e03568ffa5ce",
   "metadata": {},
   "outputs": [
    {
     "data": {
      "text/plain": [
       "((19, 19), (48, 19), (48, 48))"
      ]
     },
     "execution_count": 190,
     "metadata": {},
     "output_type": "execute_result"
    }
   ],
   "source": [
    "sf_mean.shape, inp.numpy().shape, st_mean.shape"
   ]
  },
  {
   "cell_type": "code",
   "execution_count": 191,
   "id": "9bc88f1d-65bb-4450-b38a-d96540346091",
   "metadata": {},
   "outputs": [],
   "source": [
    "# Apply time attention\n",
    "\n",
    "# Apply feature attention\n",
    "input_att_aggregation = np.dot(sf_mean, np.dot(inp.T, st_mean))"
   ]
  },
  {
   "cell_type": "code",
   "execution_count": 194,
   "id": "88b908cd-c819-42d0-bc86-9294f18dfd46",
   "metadata": {},
   "outputs": [],
   "source": [
    "input_att_aggregation.shape ## t"
   ]
  },
  {
   "cell_type": "markdown",
   "id": "0e7ee738-3dbd-463c-bd18-24a54dce343b",
   "metadata": {},
   "source": [
    "## this approach doesn;t make any sense"
   ]
  },
  {
   "cell_type": "code",
   "execution_count": 195,
   "id": "93a36d78-07a3-422a-a4a9-22482c4eb2e2",
   "metadata": {},
   "outputs": [],
   "source": [
    "# ####### average across all attention heads\n",
    "# # plt.figure()\n",
    "# fig, ax = plt.subplots(1,3,figsize=(24,8))\n",
    "# cax0 = ax[0].imshow(np.mean(sample_time, axis=0),cmap=plt.cm.Reds, \n",
    "#                 # vmin=hm_min, vmax=hm_max\n",
    "#                )\n",
    "# cbar0 = fig.colorbar(cax0, ax=ax[0], orientation='vertical')\n",
    "# ax[0].set_xlabel('Key Time Step')\n",
    "# ax[0].set_ylabel('Query Time Step')\n",
    "# ax[0].set_title('Time Attention')\n",
    "\n",
    "\n",
    "# cax1 = ax[1].imshow(np.mean(sample_feat, axis=0),cmap=plt.cm.Blues, \n",
    "#                 # vmin=hm_min, vmax=hm_max\n",
    "#                )\n",
    "# cbar1 = fig.colorbar(cax1, ax=ax[1], orientation='vertical')\n",
    "# ax[1].set_xlabel('Key Feature')\n",
    "# ax[1].set_ylabel('Query Feature')\n",
    "# ax[1].set_title('Feat Attention')\n",
    "\n",
    "# cax2 = ax[2].imshow(normalize(input_att_aggregation),cmap=plt.cm.Greens, norm=norm)\n",
    "# cbar2 = fig.colorbar(cax2, ax=ax[2], orientation='vertical')\n",
    "# ax[2].set_xlabel('Key Time Step')\n",
    "# ax[2].set_ylabel('Key Feature')\n",
    "# ax[2].set_title('Feat-Time Pair Attention Aggregation')\n",
    "\n",
    "# plt.show()"
   ]
  },
  {
   "cell_type": "markdown",
   "id": "824742fb-d158-4732-aac9-fd263804ec4e",
   "metadata": {},
   "source": [
    "## TODO "
   ]
  },
  {
   "cell_type": "markdown",
   "id": "8aef575e-bc4f-4903-aced-414075790639",
   "metadata": {},
   "source": [
    "### implement model saving here\n",
    "### run windowSHAP with pytorch\n"
   ]
  },
  {
   "cell_type": "code",
   "execution_count": null,
   "id": "6d7d4ffb-20f2-4ce9-b5c4-082fd47180b5",
   "metadata": {},
   "outputs": [],
   "source": []
  }
 ],
 "metadata": {
  "kernelspec": {
   "display_name": "Python 3 (ipykernel)",
   "language": "python",
   "name": "python3"
  },
  "language_info": {
   "codemirror_mode": {
    "name": "ipython",
    "version": 3
   },
   "file_extension": ".py",
   "mimetype": "text/x-python",
   "name": "python",
   "nbconvert_exporter": "python",
   "pygments_lexer": "ipython3",
   "version": "3.9.12"
  }
 },
 "nbformat": 4,
 "nbformat_minor": 5
}
